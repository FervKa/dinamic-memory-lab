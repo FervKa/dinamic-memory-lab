{
  "cells": [
    {
      "cell_type": "markdown",
      "metadata": {
        "id": "RA2MsnIIPkVH"
      },
      "source": [
        "# Tarea 1: Manejo Dinámico de Memoría"
      ]
    },
    {
      "cell_type": "markdown",
      "metadata": {
        "id": "Q-4lJXtOQkfW"
      },
      "source": [
        "*   *Nombres y Apellidos:*\n",
        "*   *CC o TI:*\n",
        "\n",
        "*   *Nombres y Apellidos:*\n",
        "*   *CC o TI:*\n",
        "\n",
        "*   *Nombres y Apellidos: Michael Stiven Tabares Tobón\n",
        "*   *CC o TI: 1036943803\n",
        "\n",
        "*   *Nombres y Apellidos:*\n",
        "*   *CC o TI:*"
      ]
    },
    {
      "cell_type": "markdown",
      "metadata": {
        "id": "pwnlInu2njuE"
      },
      "source": [
        "**Fecha límite de entrega**: 1 de septiembre de 2024, antes de las 11:59 pm"
      ]
    },
    {
      "cell_type": "markdown",
      "metadata": {
        "id": "nZw4PZEIROUn"
      },
      "source": [
        "## Objetivo de Aprendizaje para la Tarea 1"
      ]
    },
    {
      "cell_type": "markdown",
      "metadata": {
        "id": "udfxM8XNRTXl"
      },
      "source": [
        "Analizar la descripción del problema de manejo dinámico de memoría por medio de la identificación de la estructura de datos más apropiada y el diseño de un algoritmo para generar una solución."
      ]
    },
    {
      "cell_type": "markdown",
      "metadata": {
        "id": "YefVixPWSBAP"
      },
      "source": [
        "## Descripción General de la Tarea 1"
      ]
    },
    {
      "cell_type": "markdown",
      "metadata": {
        "id": "flo3_YjhSNpm"
      },
      "source": [
        "La Tarea 1 esta diseñado para ser desarrollado por equipos de trabajo de 3 o 4 estudiantes, el cual resolveran 5 ejercicios de manejo dinámico de memoría. Los problemas planteados están enfocados en estructuras de datos basados en listas ligadas, colas y pilas, explicados en clases sincrónicas. Cada problema debe contener el diseño del algoritmo, los resultados con las pruebas solicitadas y una explicación del algoritmo."
      ]
    },
    {
      "cell_type": "markdown",
      "metadata": {
        "id": "-B1AFOG9TRlO"
      },
      "source": [
        "## Ejercicios"
      ]
    },
    {
      "cell_type": "markdown",
      "metadata": {
        "id": "0cQZm-XxTV_v"
      },
      "source": [
        "### Ejercicio 1: Concatenación de LSL"
      ]
    },
    {
      "cell_type": "markdown",
      "metadata": {
        "id": "IHXk3gd_T0dR"
      },
      "source": [
        "**Descripción:** Dado dos LSL, *Lista_1* y *Lista_2*, diseñe un algoritmo que permita concatenar ambas listas en una nueva LSL. Posteriormente, la nueva LSL debe estar ordenada de forma ascendente para retornar al usuario la LSL final.\n",
        "\n",
        "**Idea:** Si $Lista_1 = 5 \\rightarrow 7 \\rightarrow 8 \\rightarrow NULL$ y $Lista_2 = 7 \\rightarrow 5 \\rightarrow 2 \\rightarrow NULL$, la nueva LSL, $NuevaLSL = 2 → 5 → 5 \\rightarrow 7 → 7 \\rightarrow 8 → NULL$"
      ]
    },
    {
      "cell_type": "code",
      "execution_count": null,
      "metadata": {
        "id": "tGoWkNt9PJvo"
      },
      "outputs": [],
      "source": [
        "# Diseño del algoritmo\n",
        "# //\n",
        "\n",
        "# //"
      ]
    },
    {
      "cell_type": "markdown",
      "metadata": {
        "id": "HDda7ujcV9Go"
      },
      "source": [
        "**Explicación del algoritmo: **\n",
        "\n",
        "Por favor, explicar en esta celda el funcionamiento del algoritmo y la estrategía utilizada para su diseño."
      ]
    },
    {
      "cell_type": "code",
      "execution_count": null,
      "metadata": {
        "id": "YuDjh7wKWC7b"
      },
      "outputs": [],
      "source": [
        "# Prueba 1:\n",
        "# Lista_1 = 7 -> 8 -> 8 -> 1 -> NULL\n",
        "# Lista_2 = 2 -> 9 -> 1 -> 4 -> NULL\n",
        "\n",
        "Lista_1 = LSL()\n",
        "Lista_1.insertar(7)\n",
        "Lista_1.insertar(8)\n",
        "Lista_1.insertar(8)\n",
        "Lista_1.insertar(1)\n",
        "Lista_1.Mostrar()\n",
        "\n",
        "Lista_2 = LSL()\n",
        "Lista_2.insertar(2)\n",
        "Lista_2.insertar(9)\n",
        "Lista_2.insertar(1)\n",
        "Lista_2.insertar(4)\n",
        "Lista_2.Mostrar()\n",
        "\n",
        "# Colocar la función principal para solucionar y la respuesta generada"
      ]
    },
    {
      "cell_type": "code",
      "execution_count": null,
      "metadata": {
        "id": "ZTW2iC2wXPcD"
      },
      "outputs": [],
      "source": [
        "# Prueba 2:\n",
        "# Lista_1 = 10 -> 9 -> 8 -> 7 -> NULL\n",
        "# Lista_2 = 6 -> 5 -> 4 -> 3 -> 2 -> 1 -> NULL\n",
        "\n",
        "Lista_1 = LSL()\n",
        "Lista_1.insertar(10)\n",
        "Lista_1.insertar(9)\n",
        "Lista_1.insertar(8)\n",
        "Lista_1.insertar(7)\n",
        "Lista_1.Mostrar()\n",
        "\n",
        "Lista_2 = LSL()\n",
        "Lista_2.insertar(6)\n",
        "Lista_2.insertar(5)\n",
        "Lista_2.insertar(4)\n",
        "Lista_2.insertar(3)\n",
        "Lista_2.insertar(2)\n",
        "Lista_2.insertar(1)\n",
        "Lista_2.Mostrar()\n",
        "\n",
        "# Colocar la función principal para solucionar y la respuesta generada"
      ]
    },
    {
      "cell_type": "code",
      "execution_count": null,
      "metadata": {
        "id": "9Mljj8_-Xh6h"
      },
      "outputs": [],
      "source": [
        "# Prueba 3:\n",
        "# Lista_1 = 5 -> 5 -> 5 -> 5 -> NULL\n",
        "# Lista_2 = 6 -> 6 -> 6 -> NULL\n",
        "\n",
        "Lista_1 = LSL()\n",
        "Lista_1.insertar(5)\n",
        "Lista_1.insertar(5)\n",
        "Lista_1.insertar(5)\n",
        "Lista_1.insertar(5)\n",
        "Lista_1.Mostrar()\n",
        "\n",
        "Lista_2 = LSL()\n",
        "Lista_2.insertar(6)\n",
        "Lista_2.insertar(6)\n",
        "Lista_2.insertar(6)\n",
        "Lista_2.Mostrar()\n",
        "\n",
        "# Colocar la función principal para solucionar y la respuesta generada"
      ]
    },
    {
      "cell_type": "markdown",
      "metadata": {
        "id": "rfiJnY6HXxi_"
      },
      "source": [
        "### Ejercicio 2: Ordenamiento de una LDL"
      ]
    },
    {
      "cell_type": "markdown",
      "metadata": {
        "id": "ON4_llaTYXRi"
      },
      "source": [
        "**Descripción** Considere una LDL donde el usuario ingresa un conjunto de nodos cualquesquiera, es decir, nodos con valores positivos o negativos. Se desea diseñar un algoritmo que permita ordenar los nodos en cualquier forma, ascendente o descendente, tal que el resultado muestre los nodos ordenados y sin nodos repetitivos.\n",
        "\n",
        "**Idea:** Dado una LDL, $Lista = 8 <--> 1 <--> 1 <--> 1 <--> 9 <--> 4 <--> NULL$, el algoritmo debe retonar la siguiente LDL: $Lista = 1 <--> 4 <--> 8 <--> 9 <--> NULL$ o la otra opción, $Lista = 9 <--> 8 <--> 4 <--> 1 <--> NULL$"
      ]
    },
    {
      "cell_type": "code",
      "execution_count": null,
      "metadata": {
        "id": "HEkxyjRffeqR"
      },
      "outputs": [],
      "source": [
        "# Diseño del algoritmo\n",
        "# //\n",
        "\n",
        "# //"
      ]
    },
    {
      "cell_type": "markdown",
      "metadata": {
        "id": "Gt-cSBnRfhe4"
      },
      "source": [
        "**Explicación del algoritmo: **\n",
        "\n",
        "Por favor, explicar en esta celda el funcionamiento del algoritmo y la estrategía utilizada para su diseño."
      ]
    },
    {
      "cell_type": "code",
      "execution_count": null,
      "metadata": {
        "id": "1s-zazYZfp2t"
      },
      "outputs": [],
      "source": [
        "# Prueba 1:\n",
        "# Lista = 10 <-> 8 <-> 8 <-> 8 <-> 9 <-> NULL\n",
        "\n",
        "Lista = LDL()\n",
        "Lista.insertar(10)\n",
        "Lista.insertar(8)\n",
        "Lista.insertar(8)\n",
        "Lista.insertar(8)\n",
        "Lista.insertar(9)\n",
        "Lista.Mostrar()\n",
        "\n",
        "# Colocar la función principal para solucionar y la respuesta generada"
      ]
    },
    {
      "cell_type": "code",
      "execution_count": null,
      "metadata": {
        "id": "UoDZFsXhgEKK"
      },
      "outputs": [],
      "source": [
        "# Prueba 2:\n",
        "# Lista = 1 <-> 1 <-> 1 <-> 1 <-> 1 <-> NULL\n",
        "\n",
        "Lista = LDL()\n",
        "Lista.insertar(1)\n",
        "Lista.insertar(1)\n",
        "Lista.insertar(1)\n",
        "Lista.insertar(1)\n",
        "Lista.insertar(1)\n",
        "Lista.Mostrar()\n",
        "\n",
        "# Colocar la función principal para solucionar y la respuesta generada"
      ]
    },
    {
      "cell_type": "code",
      "execution_count": null,
      "metadata": {
        "id": "HhvEBYLJgMT5"
      },
      "outputs": [],
      "source": [
        "# Prueba 3:\n",
        "# Lista = 8 <-> 7 <-> 6 <-> -4 <-> -4 <-> -3 <-> -2 <-> -1 <-> NULL\n",
        "\n",
        "Lista = LDL()\n",
        "Lista.insertar(8)\n",
        "Lista.insertar(7)\n",
        "Lista.insertar(6)\n",
        "Lista.insertar(-4)\n",
        "Lista.insertar(-4)\n",
        "Lista.insertar(-3)\n",
        "Lista.insertar(-2)\n",
        "Lista.insertar(-1)\n",
        "Lista.Mostrar()\n",
        "\n",
        "# Colocar la función principal para solucionar y la respuesta generada"
      ]
    },
    {
      "cell_type": "markdown",
      "metadata": {
        "id": "gZ06ZR20gme5"
      },
      "source": [
        "### Ejercicio 3: Operación de Encolamiento en una LDL"
      ]
    },
    {
      "cell_type": "markdown",
      "metadata": {
        "id": "0aMhTjsUhNg5"
      },
      "source": [
        "**Descripción:** Diseñar un algoritmo que permita encolar nodos en una LDL, considerando el método de cola no circular (CNC).\n",
        "\n",
        "**Idea:** Dado una LDL vacía, $Lista = NULL$, se desea encolar el nodo $3$, tal que la LDL se actualiza como $Lista = 3 <--> NULL$. Al encolar el nodo $4$, la LDL se actualiza de nuevo como $Lista = 3 <--> 4 <--> NULL$"
      ]
    },
    {
      "cell_type": "code",
      "execution_count": null,
      "metadata": {
        "id": "9_Ao4LtyiNGh"
      },
      "outputs": [],
      "source": [
        "# Diseño del algoritmo\n",
        "# //\n",
        "\n",
        "# //"
      ]
    },
    {
      "cell_type": "markdown",
      "metadata": {
        "id": "LOoO5qcRiPwa"
      },
      "source": [
        "**Explicación del algoritmo: **\n",
        "\n",
        "Por favor, explicar en esta celda el funcionamiento del algoritmo y la estrategía utilizada para su diseño."
      ]
    },
    {
      "cell_type": "code",
      "execution_count": null,
      "metadata": {
        "id": "vSAY2P-eiSJb"
      },
      "outputs": [],
      "source": [
        "# Prueba 1:\n",
        "# Generar una LDL = 1 <-> 5 <-> 6 <-> 9 <-> 10 <-> NULL\n",
        "\n",
        "# Colocar la función principal para solucionar y la respuesta generada"
      ]
    },
    {
      "cell_type": "code",
      "execution_count": null,
      "metadata": {
        "id": "FdbVfU7yid0a"
      },
      "outputs": [],
      "source": [
        "# Prueba 2:\n",
        "# Generar una LDL = 8 <-> 8 <-> 10 <-> 10 <-> 20 <-> NULL\n",
        "\n",
        "# Colocar la función principal para solucionar y la respuesta generada"
      ]
    },
    {
      "cell_type": "markdown",
      "metadata": {
        "id": "xZfGpiaNikxA"
      },
      "source": [
        "### Ejercicio 4: Recuperación de valores desapilados desde una nueva lista\n",
        "\n"
      ]
    },
    {
      "cell_type": "markdown",
      "metadata": {
        "id": "Lv4c_tCUi_CJ"
      },
      "source": [
        "**Descripción:** Considere una lista de valores con un tamaño $n$ definido por el usuario. A partir de lo anterior, diseñar un algoritmo que permita desapilar los valores de la lista y recuperar sus valores a través de una nueva variable.\n",
        "\n",
        "**Idea:** Dado una lista, $Lista = [8, 7 , 1, 3, 9]$, se realiza una operación de desapilar tal que en una nueva variable, $ListaNueva$, se muestre los valores removidos previamente, $ListaNueva = [9, 3, 1, 7, 8]$"
      ]
    },
    {
      "cell_type": "code",
      "execution_count": 19,
      "metadata": {
        "id": "eWluLxMDi1kK"
      },
      "outputs": [],
      "source": [
        "# Diseño del algoritmo\n",
        "# //\n",
        "class Pila:\n",
        "    def __init__(self, n):\n",
        "        self.V = [None] * n  # Inicializa la pila con tamaño n\n",
        "        self.Vdes = []  # Lista para almacenar los elementos desapilados\n",
        "        self.cima = -1  # Indica que la pila está vacía al inicio\n",
        "\n",
        "    def pilaVacia(self):\n",
        "        return self.cima == -1\n",
        "\n",
        "    def PilaLlena(self):\n",
        "        return self.cima == len(self.V) - 1\n",
        "\n",
        "    def Apilar(self, valor):\n",
        "        if self.PilaLlena():\n",
        "            print(\"Pila llena\")\n",
        "        else:\n",
        "            self.cima += 1\n",
        "            self.V[self.cima] = valor\n",
        "\n",
        "    def Desapilar(self):\n",
        "        if self.pilaVacia():\n",
        "            print(\"Pila vacía\")\n",
        "            return None\n",
        "        else:\n",
        "            valor_Eliminar = self.V.pop(self.cima)\n",
        "            self.cima -= 1\n",
        "            self.Vdes.append(valor_Eliminar)\n",
        "            return valor_Eliminar\n",
        "\n",
        "    def ApilarLista(self, l):\n",
        "        self.V = [None] * len(l)\n",
        "        self.Vdes = []\n",
        "        for valor in l:\n",
        "            self.Apilar(valor)\n",
        "\n",
        "    def DesapilarLista(self):\n",
        "        self.Vdes = []\n",
        "        while not self.pilaVacia():\n",
        "            self.Desapilar()\n",
        "\n",
        "    def Mostrar(self):\n",
        "        print(\"Pila actual:\", self.V[:self.cima + 1])\n",
        "        print(\"Elementos desapilados:\", self.Vdes) \n",
        "\n",
        "# //"
      ]
    },
    {
      "cell_type": "markdown",
      "metadata": {
        "id": "mtmf9P5QkFIM"
      },
      "source": [
        "**Explicación del algoritmo: **\n",
        "\n",
        "Por favor, explicar en esta celda el funcionamiento del algoritmo y la estrategía utilizada para su diseño."
      ]
    },
    {
      "cell_type": "code",
      "execution_count": 23,
      "metadata": {
        "id": "CZje5sqtkK5f"
      },
      "outputs": [
        {
          "name": "stdout",
          "output_type": "stream",
          "text": [
            "Pila actual: [2, 7, 9, 5, 7, 5]\n",
            "Elementos desapilados: []\n",
            "Pila actual: []\n",
            "Elementos desapilados: [5, 7, 5, 9, 7, 2]\n"
          ]
        }
      ],
      "source": [
        "# Prueba 1:\n",
        "#Colocar la función principal para solucionar y la respuesta generada\n",
        "#se uso uso el contenedor de Pila básico visto en clase, se construyo con 3 argumentos:\n",
        "#       -self.V = [None] * n  # Inicializa la pila con tamaño n\n",
        "#       -self.Vdes = []  # Lista para almacenar los elementos desapilados\n",
        "#       -self.cima = -1  # Indica que la pila está vacía al inicio, es el puntero.\n",
        "#El uso de pop, nos permite retornar el valor eliminado de self.V, por lo que podemos usar este valor para añadir a la lista self.Vdes con el método .append()\n",
        "#Por último se añadieron dos métodos nuevos: \n",
        "#       -ApilarLista(self, l): Este método nos permite Apilar continuamente por medio de un ciclo y usando el método Apilar() los elementos de una lista \"l\" ingresada por el usuario.\n",
        "#       -DesapilarLista(self): Este método desapila por medio de un ciclo los elementos de self.V y los almacena en self.Vdes en orden inverso, retorno por ultimo la lista de self.Vdes.\n",
        "pila = Pila(6)\n",
        "lista = [2, 7, 9, 5, 7, 5]\n",
        "pila.ApilarLista(lista)\n",
        "pila.Mostrar() \n",
        "pila.DesapilarLista()\n",
        "pila.Mostrar()\n"
      ]
    },
    {
      "cell_type": "code",
      "execution_count": 24,
      "metadata": {
        "id": "yOr6GjnckhV1"
      },
      "outputs": [
        {
          "name": "stdout",
          "output_type": "stream",
          "text": [
            "Pila actual: [1, 1, 1, 1, 1, 1]\n",
            "Elementos desapilados: []\n",
            "Pila actual: []\n",
            "Elementos desapilados: [1, 1, 1, 1, 1, 1]\n"
          ]
        }
      ],
      "source": [
        "# Prueba 2:\n",
        "lista = [1, 1, 1, 1, 1, 1]\n",
        "pila.ApilarLista(lista)\n",
        "pila.Mostrar() \n",
        "pila.DesapilarLista()\n",
        "pila.Mostrar()\n",
        "# Colocar la función principal para solucionar y la respuesta generada"
      ]
    },
    {
      "cell_type": "code",
      "execution_count": 25,
      "metadata": {
        "id": "aaPIa-SYklx_"
      },
      "outputs": [
        {
          "name": "stdout",
          "output_type": "stream",
          "text": [
            "Pila actual: [5, 5, 7, 7, 1, 1]\n",
            "Elementos desapilados: []\n",
            "Pila actual: []\n",
            "Elementos desapilados: [1, 1, 7, 7, 5, 5]\n"
          ]
        }
      ],
      "source": [
        "# Prueba 3:\n",
        "lista = [5, 5, 7, 7, 1, 1]\n",
        "pila.ApilarLista(lista)\n",
        "pila.Mostrar() \n",
        "pila.DesapilarLista()\n",
        "pila.Mostrar()\n",
        "\n",
        "# Colocar la función principal para solucionar y la respuesta generada"
      ]
    },
    {
      "cell_type": "markdown",
      "metadata": {
        "id": "BMOq4eW5ktxU"
      },
      "source": [
        "### Ejercicio 5: Implementación de una pila usando una estructura de datos generado por colas"
      ]
    },
    {
      "cell_type": "markdown",
      "metadata": {
        "id": "d74gtucMc34g"
      },
      "source": [
        "**Descripción:** Diseñar una pila tal que soporte las operaciones de apilar y desapilar usando operaciones de encolar y desencolar de una cola.\n",
        "\n",
        "**Idea:** La estrategía es implementar la operación de desencolar de forma que el último elemento añadido siempre acabe en la parte inicial de la cola. Se sugiere para este paso, una contenedor cola adicional. Por otra parte, para introducir un elemento en la pila, primero hay que mover todos los elementos de la primera cola a la segunda cola, luego poner en cola el nuevo elemento en la primera cola y, por último, volcer a mover todos los elementos a la primera cola. Lo anterior asegura que el nuevo elemento se encuentre delante de la cola y por consiguiente, sería el primero en ser removido. Para sacar un elemento de la pila, es necesario devolver el elemento ubicado delante de la primera cola.\n",
        "\n",
        "\n",
        "\n",
        "\n",
        "\n"
      ]
    },
    {
      "cell_type": "code",
      "execution_count": null,
      "metadata": {
        "id": "etsJ0yslc3Dj"
      },
      "outputs": [],
      "source": [
        "# Diseño del algoritmo\n",
        "# //\n",
        "\n",
        "# //"
      ]
    },
    {
      "cell_type": "markdown",
      "metadata": {
        "id": "noYTg8zJmhTo"
      },
      "source": [
        "**Explicación del algoritmo: **\n",
        "\n",
        "Por favor, explicar en esta celda el funcionamiento del algoritmo y la estrategía utilizada para su diseño."
      ]
    },
    {
      "cell_type": "code",
      "execution_count": null,
      "metadata": {
        "id": "LrJNRo5Pm7Hp"
      },
      "outputs": [],
      "source": [
        "# Prueba 1:\n",
        "# Lista = [10, 11, 12, 13, 14, 15],\n",
        "\n",
        "# Colocar la función principal para solucionar y la respuesta generada"
      ]
    },
    {
      "cell_type": "code",
      "execution_count": null,
      "metadata": {
        "id": "h26RZ7yYnMx-"
      },
      "outputs": [],
      "source": [
        "# Prueba 2:\n",
        "# Lista = [1, 2, 3, 4, 5, 6],\n",
        "\n",
        "# Colocar la función principal para solucionar y la respuesta generada"
      ]
    },
    {
      "cell_type": "code",
      "execution_count": null,
      "metadata": {
        "id": "hEGhMsNLnNZN"
      },
      "outputs": [],
      "source": [
        "# Prueba 3:\n",
        "# Lista = [50, 40, 30, 20, 10, 0],\n",
        "\n",
        "# Colocar la función principal para solucionar y la respuesta generada"
      ]
    }
  ],
  "metadata": {
    "colab": {
      "private_outputs": true,
      "provenance": [],
      "toc_visible": true
    },
    "kernelspec": {
      "display_name": "Python 3",
      "name": "python3"
    },
    "language_info": {
      "codemirror_mode": {
        "name": "ipython",
        "version": 3
      },
      "file_extension": ".py",
      "mimetype": "text/x-python",
      "name": "python",
      "nbconvert_exporter": "python",
      "pygments_lexer": "ipython3",
      "version": "3.12.2"
    }
  },
  "nbformat": 4,
  "nbformat_minor": 0
}
